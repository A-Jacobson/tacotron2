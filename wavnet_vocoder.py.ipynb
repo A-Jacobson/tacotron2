{
 "cells": [
  {
   "cell_type": "code",
   "execution_count": 1,
   "metadata": {},
   "outputs": [],
   "source": [
    "import torch\n",
    "from torch import nn\n",
    "from torch.autograd import Variable"
   ]
  },
  {
   "cell_type": "code",
   "execution_count": 2,
   "metadata": {},
   "outputs": [],
   "source": [
    "x = Variable(torch.rand(1, 1, 9))"
   ]
  },
  {
   "cell_type": "code",
   "execution_count": 8,
   "metadata": {},
   "outputs": [],
   "source": [
    "conv = nn.Conv1d(1, 1, kernel_size=3, padding=3)"
   ]
  },
  {
   "cell_type": "code",
   "execution_count": 9,
   "metadata": {},
   "outputs": [
    {
     "data": {
      "text/plain": [
       "Variable containing:\n",
       "(0 ,.,.) = \n",
       "\n",
       "Columns 0 to 8 \n",
       "   0.4446  0.3904  0.4507  0.3756  0.2955  0.3691  0.2922  0.2249  0.3338\n",
       "\n",
       "Columns 9 to 12 \n",
       "   0.3525  0.3692  0.4033  0.4446\n",
       "[torch.FloatTensor of size 1x1x13]"
      ]
     },
     "execution_count": 9,
     "metadata": {},
     "output_type": "execute_result"
    }
   ],
   "source": [
    "conv(x)"
   ]
  },
  {
   "cell_type": "code",
   "execution_count": 11,
   "metadata": {},
   "outputs": [],
   "source": [
    "def CausalConv1d(in_channels, out_channels, kernel_size, dilation=1, **kwargs):\n",
    "    pad = (kernel_size - 1) * dilation\n",
    "    return nn.Conv1d(in_channels, out_channels, kernel_size, padding=pad, dilation=dilation, **kwargs)\n",
    "\n",
    "class Network(nn.Module):\n",
    "    def __init__(self):\n",
    "        super().__init__()\n",
    "        self.conv1 = CausalConv1d(256, 256, kernel_size=3, dilation=2)\n",
    "\n",
    "def forward(self, x):\n",
    "\n",
    "    x = self.conv1(x)\n",
    "    x = x[:, :, :-self.conv1.padding[0]]  # remove trailing padding\n",
    "    return x"
   ]
  },
  {
   "cell_type": "code",
   "execution_count": 12,
   "metadata": {},
   "outputs": [
    {
     "name": "stdout",
     "output_type": "stream",
     "text": [
      "Variable containing:\n",
      "(0 ,.,.) = \n",
      "  0.0000  0.0000  0.0000  1.7312  0.3912 -0.6184 -1.6182 -1.1911 -0.7916\n",
      "[torch.FloatTensor of size 1x1x9]\n",
      "\n",
      "Variable containing:\n",
      "(0 ,.,.) = \n",
      "\n",
      "Columns 0 to 8 \n",
      "   0.0000  0.0000  0.0000  0.7774  0.1757  0.1981 -0.6192 -1.5896 -1.0001\n",
      "\n",
      "Columns 9 to 12 \n",
      "  -0.0113  0.6095  0.6087  0.4046\n",
      "[torch.FloatTensor of size 1x1x13]\n",
      "\n"
     ]
    }
   ],
   "source": [
    "m = CausalConv1d(1, 1, kernel_size=3, dilation=2, bias=False)\n",
    "x = torch.autograd.Variable(torch.randn(1, 1, 9))\n",
    "x[:, :, :3].data.zero_() # make the first three elements zero\n",
    "print(x)\n",
    "print(m(x))  # first three outputs should be zero"
   ]
  },
  {
   "cell_type": "code",
   "execution_count": null,
   "metadata": {},
   "outputs": [],
   "source": []
  }
 ],
 "metadata": {
  "kernelspec": {
   "display_name": "Python 3",
   "language": "python",
   "name": "python3"
  },
  "language_info": {
   "codemirror_mode": {
    "name": "ipython",
    "version": 3
   },
   "file_extension": ".py",
   "mimetype": "text/x-python",
   "name": "python",
   "nbconvert_exporter": "python",
   "pygments_lexer": "ipython3",
   "version": "3.6.1"
  },
  "varInspector": {
   "cols": {
    "lenName": 16,
    "lenType": 16,
    "lenVar": 40
   },
   "kernels_config": {
    "python": {
     "delete_cmd_postfix": "",
     "delete_cmd_prefix": "del ",
     "library": "var_list.py",
     "varRefreshCmd": "print(var_dic_list())"
    },
    "r": {
     "delete_cmd_postfix": ") ",
     "delete_cmd_prefix": "rm(",
     "library": "var_list.r",
     "varRefreshCmd": "cat(var_dic_list()) "
    }
   },
   "types_to_exclude": [
    "module",
    "function",
    "builtin_function_or_method",
    "instance",
    "_Feature"
   ],
   "window_display": false
  }
 },
 "nbformat": 4,
 "nbformat_minor": 2
}
