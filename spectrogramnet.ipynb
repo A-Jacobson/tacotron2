{
 "cells": [
  {
   "cell_type": "code",
   "execution_count": 1,
   "metadata": {},
   "outputs": [],
   "source": [
    "%matplotlib inline\n",
    "import matplotlib.pyplot as plt      \n",
    "\n",
    "import torch\n",
    "from torch import nn\n",
    "import torch.nn.functional as F\n",
    "from torch.autograd import Variable\n",
    "from torch.utils.data import DataLoader\n",
    "from torch.optim import Adam\n",
    "\n",
    "import hyperparams as hp\n",
    "from datasets import LJSpeechDataset, collate_fn\n",
    "from visualize import show_spectrogram\n",
    "from audio import wav_to_spectrogram\n",
    "from text import text_to_sequence, sequence_to_text\n",
    "from models import MelSpectrogramNet"
   ]
  },
  {
   "cell_type": "code",
   "execution_count": 2,
   "metadata": {},
   "outputs": [],
   "source": [
    "PATH = '/home/austin/data/tacotron/LJSpeech-1.0'"
   ]
  },
  {
   "cell_type": "code",
   "execution_count": 3,
   "metadata": {},
   "outputs": [],
   "source": [
    "dataset = LJSpeechDataset(path=PATH, text_transforms=text_to_sequence,\n",
    "                                     audio_transforms=wav_to_spectrogram)"
   ]
  },
  {
   "cell_type": "code",
   "execution_count": 4,
   "metadata": {},
   "outputs": [],
   "source": [
    "text, audio = dataset[4]"
   ]
  },
  {
   "cell_type": "code",
   "execution_count": null,
   "metadata": {},
   "outputs": [],
   "source": [
    "from torch.utils.data.dataset import Subset"
   ]
  },
  {
   "cell_type": "code",
   "execution_count": null,
   "metadata": {},
   "outputs": [],
   "source": [
    "dataset = Subset(dataset, range(50))"
   ]
  },
  {
   "cell_type": "code",
   "execution_count": null,
   "metadata": {},
   "outputs": [],
   "source": [
    "melnet = MelSpectrogramNet()\n",
    "melnet.cuda()"
   ]
  },
  {
   "cell_type": "code",
   "execution_count": null,
   "metadata": {},
   "outputs": [],
   "source": [
    "def train(model, optimizer, dataset, num_epochs, batch_size=1):\n",
    "    model.train()\n",
    "    loader = DataLoader(dataset, batch_size=batch_size, collate_fn=collate_fn)\n",
    "    for epoch in range(num_epochs):\n",
    "        total_loss = 0\n",
    "        for b, (text_batch, audio_batch, text_lengths, audio_lenghts) in enumerate(loader):\n",
    "            text = Variable(text_batch).cuda()\n",
    "            targets = Variable(audio_batch, requires_grad=False).cuda()\n",
    "            \n",
    "            #  create stop targets\n",
    "            stop_targets = torch.zeros(targets.size(1), targets.size(0))\n",
    "            for i in range(len(stop_targets)):\n",
    "                stop_targets[i, audio_lenghts[i]-1] = 1\n",
    "            stop_targets = Variable(stop_targets, requires_grad=False).cuda()\n",
    "\n",
    "            optimizer.zero_grad()\n",
    "            outputs, stop_tokens, attention = model(text, targets)\n",
    "            spec_loss = F.mse_loss(outputs, targets)\n",
    "            stop_loss = F.binary_cross_entropy_with_logits(stop_tokens, stop_targets)\n",
    "            loss = spec_loss + stop_loss\n",
    "            loss.backward()\n",
    "            optimizer.step()\n",
    "            total_loss += loss.data[0]\n",
    "            if b % 20 == 0 and b != 0:\n",
    "                total_loss = total_loss / 100\n",
    "                print(\"[%d][loss:%5.2f]\" %\n",
    "                  (b, total_loss))\n",
    "                total_loss = 0"
   ]
  },
  {
   "cell_type": "code",
   "execution_count": null,
   "metadata": {},
   "outputs": [],
   "source": [
    "optimizer = Adam(melnet.parameters())"
   ]
  },
  {
   "cell_type": "code",
   "execution_count": null,
   "metadata": {},
   "outputs": [],
   "source": [
    "train(melnet, optimizer, dataset, 1)"
   ]
  },
  {
   "cell_type": "code",
   "execution_count": null,
   "metadata": {},
   "outputs": [],
   "source": []
  }
 ],
 "metadata": {
  "kernelspec": {
   "display_name": "Python 3",
   "language": "python",
   "name": "python3"
  },
  "language_info": {
   "codemirror_mode": {
    "name": "ipython",
    "version": 3
   },
   "file_extension": ".py",
   "mimetype": "text/x-python",
   "name": "python",
   "nbconvert_exporter": "python",
   "pygments_lexer": "ipython3",
   "version": "3.6.1"
  },
  "varInspector": {
   "cols": {
    "lenName": 16,
    "lenType": 16,
    "lenVar": 40
   },
   "kernels_config": {
    "python": {
     "delete_cmd_postfix": "",
     "delete_cmd_prefix": "del ",
     "library": "var_list.py",
     "varRefreshCmd": "print(var_dic_list())"
    },
    "r": {
     "delete_cmd_postfix": ") ",
     "delete_cmd_prefix": "rm(",
     "library": "var_list.r",
     "varRefreshCmd": "cat(var_dic_list()) "
    }
   },
   "types_to_exclude": [
    "module",
    "function",
    "builtin_function_or_method",
    "instance",
    "_Feature"
   ],
   "window_display": false
  }
 },
 "nbformat": 4,
 "nbformat_minor": 2
}
